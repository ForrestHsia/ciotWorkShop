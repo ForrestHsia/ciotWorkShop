{
 "cells": [
  {
   "cell_type": "code",
   "execution_count": 2,
   "metadata": {},
   "outputs": [],
   "source": [
    "from pyCIOT.data import *"
   ]
  },
  {
   "cell_type": "code",
   "execution_count": 3,
   "metadata": {},
   "outputs": [],
   "source": [
    "airProject = Air().get_source()"
   ]
  },
  {
   "cell_type": "code",
   "execution_count": 4,
   "metadata": {},
   "outputs": [],
   "source": [
    "airStations = {}\n",
    "for i in range(0, len(airProject)):\n",
    "    project = airProject[i]\n",
    "    airStations[project] = Air().get_station(src=project)"
   ]
  },
  {
   "cell_type": "code",
   "execution_count": 7,
   "metadata": {},
   "outputs": [
    {
     "name": "stdout",
     "output_type": "stream",
     "text": [
      "77\n",
      "8906\n",
      "3651\n",
      "20\n",
      "168\n"
     ]
    }
   ],
   "source": [
    "for i in airProject:\n",
    "    print(len(airStations[i]))"
   ]
  },
  {
   "cell_type": "code",
   "execution_count": 8,
   "metadata": {},
   "outputs": [
    {
     "name": "stdout",
     "output_type": "stream",
     "text": [
      "Collecting browser_cookie3\n",
      "  Downloading browser_cookie3-0.16.2-py3-none-any.whl (12 kB)\n",
      "Collecting lz4\n",
      "  Downloading lz4-4.0.2-cp38-cp38-win_amd64.whl (98 kB)\n",
      "     -------------------------------------- 98.9/98.9 kB 628.8 kB/s eta 0:00:00\n",
      "Collecting pyaes\n",
      "  Downloading pyaes-1.6.1.tar.gz (28 kB)\n",
      "  Preparing metadata (setup.py): started\n",
      "  Preparing metadata (setup.py): finished with status 'done'\n",
      "Requirement already satisfied: keyring in c:\\users\\forresthsia\\anaconda3\\lib\\site-packages (from browser_cookie3) (21.4.0)\n",
      "Requirement already satisfied: pycryptodome in c:\\users\\forresthsia\\anaconda3\\lib\\site-packages (from browser_cookie3) (3.10.1)\n",
      "Collecting SecretStorage\n",
      "  Downloading SecretStorage-3.3.3-py3-none-any.whl (15 kB)\n",
      "Collecting pbkdf2\n",
      "  Downloading pbkdf2-1.3.tar.gz (6.4 kB)\n",
      "  Preparing metadata (setup.py): started\n",
      "  Preparing metadata (setup.py): finished with status 'done'\n",
      "Requirement already satisfied: pywin32-ctypes!=0.1.0,!=0.1.1 in c:\\users\\forresthsia\\anaconda3\\lib\\site-packages (from keyring->browser_cookie3) (0.2.0)\n",
      "Collecting jeepney>=0.6\n",
      "  Downloading jeepney-0.8.0-py3-none-any.whl (48 kB)Note: you may need to restart the kernel to use updated packages.\n",
      "     ---------------------------------------- 48.4/48.4 kB 2.5 MB/s eta 0:00:00\n",
      "Requirement already satisfied: cryptography>=2.0 in c:\\users\\forresthsia\\anaconda3\\lib\\site-packages (from SecretStorage->browser_cookie3) (3.1.1)\n",
      "Requirement already satisfied: cffi!=1.11.3,>=1.8 in c:\\users\\forresthsia\\anaconda3\\lib\\site-packages (from cryptography>=2.0->SecretStorage->browser_cookie3) (1.14.3)\n",
      "Requirement already satisfied: six>=1.4.1 in c:\\users\\forresthsia\\anaconda3\\lib\\site-packages (from cryptography>=2.0->SecretStorage->browser_cookie3) (1.15.0)\n",
      "Requirement already satisfied: pycparser in c:\\users\\forresthsia\\anaconda3\\lib\\site-packages (from cffi!=1.11.3,>=1.8->cryptography>=2.0->SecretStorage->browser_cookie3) (2.20)\n",
      "Building wheels for collected packages: pbkdf2, pyaes\n",
      "  Building wheel for pbkdf2 (setup.py): started\n",
      "  Building wheel for pbkdf2 (setup.py): finished with status 'done'\n",
      "  Created wheel for pbkdf2: filename=pbkdf2-1.3-py3-none-any.whl size=5108 sha256=8f33debdf21fc305dda054150b2b88375e2d6accf2c7ce902ec0e6626389ed02\n",
      "  Stored in directory: c:\\users\\forresthsia\\appdata\\local\\pip\\cache\\wheels\\bc\\21\\51\\7168fec3dc6cd3d1b6ba763f9a6b75c32ebf7978f2e006cb12\n",
      "  Building wheel for pyaes (setup.py): started\n",
      "  Building wheel for pyaes (setup.py): finished with status 'done'\n",
      "  Created wheel for pyaes: filename=pyaes-1.6.1-py3-none-any.whl size=26349 sha256=0fc55f7169b0d0832f8a52d8bdfa0de307042b9ca4f49a085a1fb1c84b59cc19\n",
      "  Stored in directory: c:\\users\\forresthsia\\appdata\\local\\pip\\cache\\wheels\\8d\\79\\db\\a280614fedfbb80e6c590ccd8cb83598858449f5109d09de15\n",
      "Successfully built pbkdf2 pyaes\n",
      "Installing collected packages: pyaes, pbkdf2, lz4, jeepney, SecretStorage, browser_cookie3\n",
      "Successfully installed SecretStorage-3.3.3 browser_cookie3-0.16.2 jeepney-0.8.0 lz4-4.0.2 pbkdf2-1.3 pyaes-1.6.1\n",
      "\n"
     ]
    },
    {
     "name": "stderr",
     "output_type": "stream",
     "text": [
      "\n",
      "[notice] A new release of pip available: 22.3 -> 22.3.1\n",
      "[notice] To update, run: python.exe -m pip install --upgrade pip\n"
     ]
    }
   ],
   "source": [
    "pip install browser_cookie3"
   ]
  },
  {
   "cell_type": "code",
   "execution_count": null,
   "metadata": {},
   "outputs": [],
   "source": []
  }
 ],
 "metadata": {
  "kernelspec": {
   "display_name": "Python 3.8.5 ('base')",
   "language": "python",
   "name": "python3"
  },
  "language_info": {
   "codemirror_mode": {
    "name": "ipython",
    "version": 3
   },
   "file_extension": ".py",
   "mimetype": "text/x-python",
   "name": "python",
   "nbconvert_exporter": "python",
   "pygments_lexer": "ipython3",
   "version": "3.8.5"
  },
  "orig_nbformat": 4,
  "vscode": {
   "interpreter": {
    "hash": "57e533ff642f4f7e61ec7c25f8c351bfe61387aa20c94fdaf2dc3a1f1d46bd78"
   }
  }
 },
 "nbformat": 4,
 "nbformat_minor": 2
}
