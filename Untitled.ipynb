{
 "cells": [
  {
   "cell_type": "code",
   "execution_count": 4,
   "id": "b9eeb8fc",
   "metadata": {},
   "outputs": [],
   "source": [
    "from pyCIOT.data import *"
   ]
  },
  {
   "cell_type": "code",
   "execution_count": 24,
   "id": "d0dca1ad",
   "metadata": {},
   "outputs": [],
   "source": [
    "airProject = Air().get_source()"
   ]
  },
  {
   "cell_type": "code",
   "execution_count": 30,
   "id": "e85a446d",
   "metadata": {},
   "outputs": [
    {
     "data": {
      "text/plain": [
       "list"
      ]
     },
     "execution_count": 30,
     "metadata": {},
     "output_type": "execute_result"
    }
   ],
   "source": [
    "type(airProject)"
   ]
  },
  {
   "cell_type": "code",
   "execution_count": 36,
   "id": "76f109c1",
   "metadata": {},
   "outputs": [],
   "source": [
    "airStations = {}\n",
    "for i in range(0, len(airProject)):\n",
    "    project = airProject[i]\n",
    "    airStations[project] = Air().get_station(src=project)"
   ]
  },
  {
   "cell_type": "code",
   "execution_count": 43,
   "id": "0240e3c6",
   "metadata": {},
   "outputs": [
    {
     "data": {
      "text/plain": [
       "8906"
      ]
     },
     "execution_count": 43,
     "metadata": {},
     "output_type": "execute_result"
    }
   ],
   "source": [
    "len(airStations['OBS:EPA_IoT'])"
   ]
  },
  {
   "cell_type": "code",
   "execution_count": null,
   "id": "87105f33",
   "metadata": {},
   "outputs": [],
   "source": []
  }
 ],
 "metadata": {
  "kernelspec": {
   "display_name": "Python 3",
   "language": "python",
   "name": "python3"
  },
  "language_info": {
   "codemirror_mode": {
    "name": "ipython",
    "version": 3
   },
   "file_extension": ".py",
   "mimetype": "text/x-python",
   "name": "python",
   "nbconvert_exporter": "python",
   "pygments_lexer": "ipython3",
   "version": "3.8.5"
  }
 },
 "nbformat": 4,
 "nbformat_minor": 5
}
