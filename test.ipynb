{
 "cells": [
  {
   "cell_type": "code",
   "execution_count": 26,
   "metadata": {},
   "outputs": [],
   "source": [
    "import pandas as pd\n",
    "import geopandas as gpd\n",
    "import leafmap\n",
    "import ipyleaflet\n",
    "import osmnx\n",
    "import geocoder\n",
    "import streamlit\n",
    "from pyCIOT.data import *"
   ]
  },
  {
   "cell_type": "code",
   "execution_count": 27,
   "metadata": {},
   "outputs": [
    {
     "data": {
      "text/html": [
       "<div>\n",
       "<style scoped>\n",
       "    .dataframe tbody tr th:only-of-type {\n",
       "        vertical-align: middle;\n",
       "    }\n",
       "\n",
       "    .dataframe tbody tr th {\n",
       "        vertical-align: top;\n",
       "    }\n",
       "\n",
       "    .dataframe thead th {\n",
       "        text-align: right;\n",
       "    }\n",
       "</style>\n",
       "<table border=\"1\" class=\"dataframe\">\n",
       "  <thead>\n",
       "    <tr style=\"text-align: right;\">\n",
       "      <th></th>\n",
       "      <th>name</th>\n",
       "      <th>location.latitude</th>\n",
       "      <th>location.longitude</th>\n",
       "      <th>O3</th>\n",
       "    </tr>\n",
       "  </thead>\n",
       "  <tbody>\n",
       "    <tr>\n",
       "      <th>0</th>\n",
       "      <td>空氣品質測站-基隆</td>\n",
       "      <td>25.1292</td>\n",
       "      <td>121.7601</td>\n",
       "      <td>39.1</td>\n",
       "    </tr>\n",
       "    <tr>\n",
       "      <th>1</th>\n",
       "      <td>空氣品質測站-汐止</td>\n",
       "      <td>25.0657</td>\n",
       "      <td>121.6408</td>\n",
       "      <td>29.1</td>\n",
       "    </tr>\n",
       "    <tr>\n",
       "      <th>2</th>\n",
       "      <td>空氣品質測站-萬里</td>\n",
       "      <td>25.1797</td>\n",
       "      <td>121.6899</td>\n",
       "      <td>43.4</td>\n",
       "    </tr>\n",
       "    <tr>\n",
       "      <th>3</th>\n",
       "      <td>空氣品質測站-新店</td>\n",
       "      <td>24.9772</td>\n",
       "      <td>121.5378</td>\n",
       "      <td>32.3</td>\n",
       "    </tr>\n",
       "    <tr>\n",
       "      <th>4</th>\n",
       "      <td>空氣品質測站-土城</td>\n",
       "      <td>24.9825</td>\n",
       "      <td>121.4519</td>\n",
       "      <td>34.0</td>\n",
       "    </tr>\n",
       "    <tr>\n",
       "      <th>...</th>\n",
       "      <td>...</td>\n",
       "      <td>...</td>\n",
       "      <td>...</td>\n",
       "      <td>...</td>\n",
       "    </tr>\n",
       "    <tr>\n",
       "      <th>72</th>\n",
       "      <td>空氣品質測站-關山</td>\n",
       "      <td>23.0451</td>\n",
       "      <td>121.1619</td>\n",
       "      <td>34.1</td>\n",
       "    </tr>\n",
       "    <tr>\n",
       "      <th>73</th>\n",
       "      <td>空氣品質測站-金門</td>\n",
       "      <td>24.4321</td>\n",
       "      <td>118.3123</td>\n",
       "      <td>58.5</td>\n",
       "    </tr>\n",
       "    <tr>\n",
       "      <th>74</th>\n",
       "      <td>空氣品質測站-馬祖</td>\n",
       "      <td>26.1536</td>\n",
       "      <td>119.9525</td>\n",
       "      <td>49.1</td>\n",
       "    </tr>\n",
       "    <tr>\n",
       "      <th>75</th>\n",
       "      <td>空氣品質測站-馬公</td>\n",
       "      <td>23.5690</td>\n",
       "      <td>119.5662</td>\n",
       "      <td>45.2</td>\n",
       "    </tr>\n",
       "    <tr>\n",
       "      <th>76</th>\n",
       "      <td>空氣品質測站-麥寮</td>\n",
       "      <td>23.7535</td>\n",
       "      <td>120.2518</td>\n",
       "      <td>44.9</td>\n",
       "    </tr>\n",
       "  </tbody>\n",
       "</table>\n",
       "<p>77 rows × 4 columns</p>\n",
       "</div>"
      ],
      "text/plain": [
       "         name  location.latitude  location.longitude    O3\n",
       "0   空氣品質測站-基隆            25.1292            121.7601  39.1\n",
       "1   空氣品質測站-汐止            25.0657            121.6408  29.1\n",
       "2   空氣品質測站-萬里            25.1797            121.6899  43.4\n",
       "3   空氣品質測站-新店            24.9772            121.5378  32.3\n",
       "4   空氣品質測站-土城            24.9825            121.4519  34.0\n",
       "..        ...                ...                 ...   ...\n",
       "72  空氣品質測站-關山            23.0451            121.1619  34.1\n",
       "73  空氣品質測站-金門            24.4321            118.3123  58.5\n",
       "74  空氣品質測站-馬祖            26.1536            119.9525  49.1\n",
       "75  空氣品質測站-馬公            23.5690            119.5662  45.2\n",
       "76  空氣品質測站-麥寮            23.7535            120.2518  44.9\n",
       "\n",
       "[77 rows x 4 columns]"
      ]
     },
     "execution_count": 27,
     "metadata": {},
     "output_type": "execute_result"
    }
   ],
   "source": [
    "epa_station = Air().get_data(src=\"OBS:EPA\")\n",
    "df_air = pd.json_normalize(epa_station) \n",
    "df_air['O3'] = 0\n",
    "for index, row in df_air.iterrows():\n",
    "  sensors = row['data']\n",
    "  for sensor in sensors:\n",
    "    if sensor['name'] == 'O3':\n",
    "      df_air.at[index, 'O3'] =  sensor['values'][0]['value']\n",
    "df_air = df_air[['name','location.latitude','location.longitude','O3']]\n",
    "df_air"
   ]
  },
  {
   "cell_type": "code",
   "execution_count": 28,
   "metadata": {},
   "outputs": [
    {
     "data": {
      "text/html": [
       "<div>\n",
       "<style scoped>\n",
       "    .dataframe tbody tr th:only-of-type {\n",
       "        vertical-align: middle;\n",
       "    }\n",
       "\n",
       "    .dataframe tbody tr th {\n",
       "        vertical-align: top;\n",
       "    }\n",
       "\n",
       "    .dataframe thead th {\n",
       "        text-align: right;\n",
       "    }\n",
       "</style>\n",
       "<table border=\"1\" class=\"dataframe\">\n",
       "  <thead>\n",
       "    <tr style=\"text-align: right;\">\n",
       "      <th></th>\n",
       "      <th>name</th>\n",
       "      <th>location.latitude</th>\n",
       "      <th>location.longitude</th>\n",
       "    </tr>\n",
       "  </thead>\n",
       "  <tbody>\n",
       "    <tr>\n",
       "      <th>0</th>\n",
       "      <td>地震監測站-Jiqi-EGC</td>\n",
       "      <td>23.7080</td>\n",
       "      <td>121.5480</td>\n",
       "    </tr>\n",
       "    <tr>\n",
       "      <th>1</th>\n",
       "      <td>地震監測站-Xilin-ESL</td>\n",
       "      <td>23.8120</td>\n",
       "      <td>121.4420</td>\n",
       "    </tr>\n",
       "    <tr>\n",
       "      <th>2</th>\n",
       "      <td>地震監測站-清境國小-105</td>\n",
       "      <td>24.0448</td>\n",
       "      <td>121.1588</td>\n",
       "    </tr>\n",
       "    <tr>\n",
       "      <th>3</th>\n",
       "      <td>地震監測站-Yanliao-EYL</td>\n",
       "      <td>23.9040</td>\n",
       "      <td>121.6020</td>\n",
       "    </tr>\n",
       "    <tr>\n",
       "      <th>4</th>\n",
       "      <td>地震監測站-Nan-ao-ENA</td>\n",
       "      <td>24.4260</td>\n",
       "      <td>121.7490</td>\n",
       "    </tr>\n",
       "    <tr>\n",
       "      <th>...</th>\n",
       "      <td>...</td>\n",
       "      <td>...</td>\n",
       "      <td>...</td>\n",
       "    </tr>\n",
       "    <tr>\n",
       "      <th>257</th>\n",
       "      <td>地震監測站-灣內國小-S00103</td>\n",
       "      <td>23.5006</td>\n",
       "      <td>120.3126</td>\n",
       "    </tr>\n",
       "    <tr>\n",
       "      <th>258</th>\n",
       "      <td>地震監測站-港坪國小-S00004</td>\n",
       "      <td>23.4791</td>\n",
       "      <td>120.4243</td>\n",
       "    </tr>\n",
       "    <tr>\n",
       "      <th>259</th>\n",
       "      <td>地震監測站-那拔國小-S00090</td>\n",
       "      <td>23.0687</td>\n",
       "      <td>120.3495</td>\n",
       "    </tr>\n",
       "    <tr>\n",
       "      <th>260</th>\n",
       "      <td>地震監測站-育仁國小-S00075</td>\n",
       "      <td>23.7586</td>\n",
       "      <td>120.4874</td>\n",
       "    </tr>\n",
       "    <tr>\n",
       "      <th>261</th>\n",
       "      <td>地震監測站-新庄國小-S00031</td>\n",
       "      <td>22.9889</td>\n",
       "      <td>120.5599</td>\n",
       "    </tr>\n",
       "  </tbody>\n",
       "</table>\n",
       "<p>262 rows × 3 columns</p>\n",
       "</div>"
      ],
      "text/plain": [
       "                  name  location.latitude  location.longitude\n",
       "0       地震監測站-Jiqi-EGC            23.7080            121.5480\n",
       "1      地震監測站-Xilin-ESL            23.8120            121.4420\n",
       "2       地震監測站-清境國小-105            24.0448            121.1588\n",
       "3    地震監測站-Yanliao-EYL            23.9040            121.6020\n",
       "4     地震監測站-Nan-ao-ENA            24.4260            121.7490\n",
       "..                 ...                ...                 ...\n",
       "257  地震監測站-灣內國小-S00103            23.5006            120.3126\n",
       "258  地震監測站-港坪國小-S00004            23.4791            120.4243\n",
       "259  地震監測站-那拔國小-S00090            23.0687            120.3495\n",
       "260  地震監測站-育仁國小-S00075            23.7586            120.4874\n",
       "261  地震監測站-新庄國小-S00031            22.9889            120.5599\n",
       "\n",
       "[262 rows x 3 columns]"
      ]
     },
     "execution_count": 28,
     "metadata": {},
     "output_type": "execute_result"
    }
   ],
   "source": [
    "quake_station = Quake().get_station(src=\"EARTHQUAKE:CWB+NCREE\")\n",
    "df_quake = pd.json_normalize(quake_station) \n",
    "df_quake = df_quake[['name','location.latitude','location.longitude']]\n",
    "df_quake"
   ]
  },
  {
   "cell_type": "code",
   "execution_count": 37,
   "metadata": {},
   "outputs": [
    {
     "data": {
      "application/vnd.jupyter.widget-view+json": {
       "model_id": "0aab9d3e595e4eb18088545c39d38b80",
       "version_major": 2,
       "version_minor": 0
      },
      "text/plain": [
       "Map(center=[23.8, 121], controls=(ZoomControl(options=['position', 'zoom_in_text', 'zoom_in_title', 'zoom_out_…"
      ]
     },
     "execution_count": 37,
     "metadata": {},
     "output_type": "execute_result"
    }
   ],
   "source": [
    "gdf_air = gpd.GeoDataFrame(df_air, geometry=gpd.points_from_xy(df_air['location.longitude'], df_air['location.latitude']), crs='epsg:4326')\n",
    "gdf_quake = gpd.GeoDataFrame(df_quake, geometry=gpd.points_from_xy(df_quake['location.longitude'], df_quake['location.latitude']), crs='epsg:4326')\n",
    "\n",
    "m1 = leafmap.Map(center=(23.8, 121), toolbar_control=False, layers_control=True)\n",
    "# m1.add_gdf(gdf_air, layer_name=\"EPA Station\")\n",
    "m1.add_gdf(gdf_quake, layer_name=\"Quake Station\")\n",
    "m1"
   ]
  },
  {
   "cell_type": "code",
   "execution_count": 19,
   "metadata": {},
   "outputs": [
    {
     "data": {
      "text/plain": [
       "geopandas.geodataframe.GeoDataFrame"
      ]
     },
     "execution_count": 19,
     "metadata": {},
     "output_type": "execute_result"
    }
   ],
   "source": [
    "type(gdf_air)"
   ]
  },
  {
   "cell_type": "code",
   "execution_count": 32,
   "metadata": {},
   "outputs": [
    {
     "name": "stdout",
     "output_type": "stream",
     "text": [
      "\u001b[1;31mSignature:\u001b[0m\n",
      "\u001b[0mm1\u001b[0m\u001b[1;33m.\u001b[0m\u001b[0madd_gdf\u001b[0m\u001b[1;33m(\u001b[0m\u001b[1;33m\n",
      "\u001b[0m    \u001b[0mgdf\u001b[0m\u001b[1;33m,\u001b[0m\u001b[1;33m\n",
      "\u001b[0m    \u001b[0mlayer_name\u001b[0m\u001b[1;33m=\u001b[0m\u001b[1;34m'Untitled'\u001b[0m\u001b[1;33m,\u001b[0m\u001b[1;33m\n",
      "\u001b[0m    \u001b[0mstyle\u001b[0m\u001b[1;33m=\u001b[0m\u001b[1;33m{\u001b[0m\u001b[1;33m}\u001b[0m\u001b[1;33m,\u001b[0m\u001b[1;33m\n",
      "\u001b[0m    \u001b[0mhover_style\u001b[0m\u001b[1;33m=\u001b[0m\u001b[1;33m{\u001b[0m\u001b[1;33m}\u001b[0m\u001b[1;33m,\u001b[0m\u001b[1;33m\n",
      "\u001b[0m    \u001b[0mstyle_callback\u001b[0m\u001b[1;33m=\u001b[0m\u001b[1;32mNone\u001b[0m\u001b[1;33m,\u001b[0m\u001b[1;33m\n",
      "\u001b[0m    \u001b[0mfill_colors\u001b[0m\u001b[1;33m=\u001b[0m\u001b[1;33m[\u001b[0m\u001b[1;34m'black'\u001b[0m\u001b[1;33m]\u001b[0m\u001b[1;33m,\u001b[0m\u001b[1;33m\n",
      "\u001b[0m    \u001b[0minfo_mode\u001b[0m\u001b[1;33m=\u001b[0m\u001b[1;34m'on_hover'\u001b[0m\u001b[1;33m,\u001b[0m\u001b[1;33m\n",
      "\u001b[0m    \u001b[0mzoom_to_layer\u001b[0m\u001b[1;33m=\u001b[0m\u001b[1;32mTrue\u001b[0m\u001b[1;33m,\u001b[0m\u001b[1;33m\n",
      "\u001b[0m    \u001b[0mencoding\u001b[0m\u001b[1;33m=\u001b[0m\u001b[1;34m'utf-8'\u001b[0m\u001b[1;33m,\u001b[0m\u001b[1;33m\n",
      "\u001b[0m\u001b[1;33m)\u001b[0m\u001b[1;33m\u001b[0m\u001b[1;33m\u001b[0m\u001b[0m\n",
      "\u001b[1;31mDocstring:\u001b[0m\n",
      "Adds a GeoDataFrame to the map.\n",
      "\n",
      "Args:\n",
      "    gdf (GeoDataFrame): A GeoPandas GeoDataFrame.\n",
      "    layer_name (str, optional): The layer name to be used.. Defaults to \"Untitled\".\n",
      "    style (dict, optional): A dictionary specifying the style to be used. Defaults to {}.\n",
      "    hover_style (dict, optional): Hover style dictionary. Defaults to {}.\n",
      "    style_callback (function, optional): Styling function that is called for each feature, and should return the feature style. This styling function takes the feature as argument. Defaults to None.\n",
      "    fill_colors (list, optional): The random colors to use for filling polygons. Defaults to [\"black\"].\n",
      "    info_mode (str, optional): Displays the attributes by either on_hover or on_click. Any value other than \"on_hover\" or \"on_click\" will be treated as None. Defaults to \"on_hover\".\n",
      "    zoom_to_layer (bool, optional): Whether to zoom to the layer.\n",
      "    encoding (str, optional): The encoding of the GeoDataFrame. Defaults to \"utf-8\".\n",
      "\u001b[1;31mFile:\u001b[0m      c:\\users\\forresthsia\\anaconda3\\lib\\site-packages\\leafmap\\leafmap.py\n",
      "\u001b[1;31mType:\u001b[0m      method\n"
     ]
    }
   ],
   "source": [
    "m1 = leafmap.Map(center=(23.8, 121), toolbar_control=False, layers_control=True)\n",
    "m1.add_gdf(gdf_air, layer_name=\"EPA_Station\")\n",
    "# m1.add_gdf(gdf_quake, layer_name=\"Quake Station\")\n",
    "m1.add_gdf?"
   ]
  },
  {
   "cell_type": "code",
   "execution_count": 6,
   "metadata": {},
   "outputs": [
    {
     "data": {
      "application/vnd.jupyter.widget-view+json": {
       "model_id": "db40456a613241b0864d6f4217717b4f",
       "version_major": 2,
       "version_minor": 0
      },
      "text/plain": [
       "Map(center=[23.8, 121], controls=(ZoomControl(options=['position', 'zoom_in_text', 'zoom_in_title', 'zoom_out_…"
      ]
     },
     "execution_count": 6,
     "metadata": {},
     "output_type": "execute_result"
    }
   ],
   "source": [
    "geo_data_air = ipyleaflet.GeoData(\n",
    "    geo_dataframe=gdf_air,\n",
    "    point_style={'radius': 5, 'color': 'black', 'fillOpacity': 0.8, 'fillColor': 'blue', 'weight': 3},\n",
    "    name=\"EPA stations\",\n",
    ")\n",
    "geo_data_quake = ipyleaflet.GeoData(\n",
    "    geo_dataframe=gdf_quake,\n",
    "    point_style={'radius': 5, 'color': 'black', 'fillOpacity': 0.8, 'fillColor': 'red', 'weight': 3},\n",
    "    name=\"Quake stations\",\n",
    ")\n",
    "\n",
    "\n",
    "m2 = leafmap.Map(center=(23.8, 121), toolbar_control=False, layers_control=True)\n",
    "m2.add_layer(geo_data_air)\n",
    "m2.add_layer(geo_data_quake)\n",
    "m2"
   ]
  },
  {
   "cell_type": "code",
   "execution_count": 7,
   "metadata": {},
   "outputs": [
    {
     "data": {
      "application/vnd.jupyter.widget-view+json": {
       "model_id": "60a4f4e230924bbb8405c95e5572e5c0",
       "version_major": 2,
       "version_minor": 0
      },
      "text/plain": [
       "Map(center=[23.8, 121], controls=(ZoomControl(options=['position', 'zoom_in_text', 'zoom_in_title', 'zoom_out_…"
      ]
     },
     "execution_count": 7,
     "metadata": {},
     "output_type": "execute_result"
    }
   ],
   "source": [
    "m3 = leafmap.Map(center=(23.8, 121), toolbar_control=False, layers_control=True)\n",
    "m3.add_points_from_xy(data=df_quake, x = 'location.longitude', y = 'location.latitude', layer_name=\"Quake Station\")\n",
    "m3"
   ]
  },
  {
   "cell_type": "code",
   "execution_count": null,
   "metadata": {},
   "outputs": [],
   "source": [
    "m4 = leafmap.Map(center=(23.8, 121), toolbar_control=False, layers_control=True)\n",
    "m4.add_points_from_xy(data=df_air, x = 'location.longitude', y = 'location.latitude', layer_name=\"Quake Station\")\n",
    "m4"
   ]
  },
  {
   "cell_type": "code",
   "execution_count": null,
   "metadata": {},
   "outputs": [],
   "source": []
  }
 ],
 "metadata": {
  "kernelspec": {
   "display_name": "Python 3.8.5 ('base')",
   "language": "python",
   "name": "python3"
  },
  "language_info": {
   "codemirror_mode": {
    "name": "ipython",
    "version": 3
   },
   "file_extension": ".py",
   "mimetype": "text/x-python",
   "name": "python",
   "nbconvert_exporter": "python",
   "pygments_lexer": "ipython3",
   "version": "3.8.5"
  },
  "orig_nbformat": 4,
  "vscode": {
   "interpreter": {
    "hash": "57e533ff642f4f7e61ec7c25f8c351bfe61387aa20c94fdaf2dc3a1f1d46bd78"
   }
  }
 },
 "nbformat": 4,
 "nbformat_minor": 2
}
